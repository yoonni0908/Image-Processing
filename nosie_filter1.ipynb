{
 "cells": [
  {
   "cell_type": "code",
   "execution_count": null,
   "id": "9884268e",
   "metadata": {},
   "outputs": [],
   "source": [
    "import cv2\n",
    "import numpy as np\n",
    "from math import pi, exp, pow"
   ]
  },
  {
   "cell_type": "code",
   "execution_count": null,
   "id": "7748774b",
   "metadata": {},
   "outputs": [],
   "source": [
    "def avg_filtering(src, filter_size = 3):\n",
    "    dst = src.copy() #원본 이미지 copy\n",
    "    for y in range(int(filter_size/2), src.shape[0]-int(filter_size/2)): #필터 사이즈를 2분의 1로 진행->오류발생x\n",
    "        for x in range(int(filter_size/2), src.shape[1]-int(filter_size/2)):\n",
    "            temp = np.zeros((src[y][x].shape))#컬러이미지는 3채널, 흑백이미지는 1채널 이므로 shape메소드를 이용해 zeros 시켜줌\n",
    "            for j in range(-int(filter_size/2), int(filter_size/2)+1):\n",
    "                temp += src[y+j][x+j] #합계 구하기\n",
    "            dst[y][x] = np.round(temp/(filter_size*filter_size)) #필터 사이즈로 나눠줌\n",
    "    return dst"
   ]
  },
  {
   "cell_type": "code",
   "execution_count": null,
   "id": "7d19415c",
   "metadata": {},
   "outputs": [],
   "source": [
    "src = cv2.imread('Homework #3 images/Color noisy image/Lena_noise.png')\n",
    "dst = avg_filtering(src)\n",
    "cv2.imshow(\"src\", src)\n",
    "cv2.imshow(\"dst\", dst)\n",
    "cv2.waitKey(0)\n",
    "cv2.destroyAllWindows()"
   ]
  },
  {
   "cell_type": "code",
   "execution_count": null,
   "id": "2eb05324",
   "metadata": {},
   "outputs": [],
   "source": [
    "def get_gaussian_filter(filter_size, gamma): #filtersize와 gamma의 크기를 입력으로 받아 원하는 필터크기 생성\n",
    "    filter = np.zeros(shape=(filter_size, filter_size))\n",
    "    for y in range(filter_size): #강의자료에 나와있는 수식 연산 사용\n",
    "        for x in range(filter_size):\n",
    "            filter[y][x] = 1/(2*pi*pow(gamma, 2))*(exp(-1*(pow(x-int(filter_size/2),2)+pow(y-int(filter_size/2),2))/pow(gamma,2))\n",
    "    filter *= (1/np.sum(filter)) #필터의 합들을 1로 맞춰주는 작업 (이미지가 어둡게 나오지 않도록)\n",
    "    return filter\n",
    "\n",
    "def gaussian_filtering(src, filter_size=3, gamma=1):\n",
    "    dst = np.zeros(shape=(src.shape))\n",
    "    gaussian_filter = get_gaussian_filter(filter_size, gamma)\n",
    "    for y in range(int(filter_size/2), src.shape[0]-int(filter_size)/2)): #convolution 연산 진행\n",
    "        for x in range(int(filter_size/2), src.shape[1]-int(filter_size/2)):\n",
    "            for j in range(filter_size):\n",
    "                for i in range(filter_size):\n",
    "                    dst[y][x] += src[y-int(filter_size/2)+j][x-int(filter_size/2)+i] * gaussian_filter[j][i]\n",
    "    dst = np.array(np.round(dst), dtype = np.uint8) #검은 테두리 발생함..\n",
    "    return dst"
   ]
  },
  {
   "cell_type": "code",
   "execution_count": null,
   "id": "73e2fc13",
   "metadata": {},
   "outputs": [],
   "source": [
    "src = cv2.imread('Homework #3 images/Color noisy image/Lena_noise.png')\n",
    "dst = gaussian_filtering(src, 5, 1)\n",
    "cv2.imshow(\"src\", src)\n",
    "cv2.imshow(\"dst\", dst)\n",
    "cv2.waitKey(0)\n",
    "cv2.destroyAllWindows()"
   ]
  },
  {
   "cell_type": "code",
   "execution_count": null,
   "id": "b81a2679",
   "metadata": {},
   "outputs": [],
   "source": [
    "def median_filtering(src, filter_size = 3):\n",
    "    dst = src.copy() #원본 이미지 복사\n",
    "    temp = np.zeros(shape=(filter_size*filter_size))\n",
    "    \n",
    "    for y in range(int(filter_size/2), src.shape[0]-int(filter_size/2)):\n",
    "        for x in range(int(filter_size/2), src.shape[1]-int(filter_size/2)):\n",
    "            if np.ndim(src) > 2:\n",
    "                for c in range(src.shape[2]):\n",
    "                    for j in range(filter_size):\n",
    "                        for i in range(filter_size):\n",
    "                            temp[j*filter_size+i] = src[y-int(filter_size/2)+j][x-int(filter_size/2)+i][c]\n",
    "                    temp.sort() #컬러이미지는 각 sorting 해주어야함\n",
    "                    dst[y][x][c] = temp[int(filter_size*filter_size/2)]\n",
    "            else:\n",
    "                for j in range(filter_size):\n",
    "                    for i in range(filter_size):\n",
    "                        temp[j*filter_size+i] = src[y-int(filter_size/2)+j][x-int(filter_size/2)+i]\n",
    "                temp.sort()\n",
    "                dst[y][x] = temp[int(filter_size*filter_size/2)]\n",
    "            \n",
    "    return dst"
   ]
  },
  {
   "cell_type": "code",
   "execution_count": null,
   "id": "777b1022",
   "metadata": {},
   "outputs": [],
   "source": [
    "src = cv2.imread('Homework #3 images/Color noisy image/Lena_noise.png')\n",
    "dst = gaussian_filtering(src, 5, 1)\n",
    "cv2.imshow(\"src\", src)\n",
    "cv2.imshow(\"dst\", dst)\n",
    "cv2.waitKey(0)\n",
    "cv2.destroyAllWindows()"
   ]
  },
  {
   "cell_type": "code",
   "execution_count": null,
   "id": "cece8d90",
   "metadata": {},
   "outputs": [],
   "source": [
    "def high_boost_filtering(src, filter_type=0, alpha = 0): #두가지 필터중 하나를 적용시키도록함\n",
    "    filter_4 = [\n",
    "        [0, -1, 0],\n",
    "        [-1, alpha+4, -1],\n",
    "        [0, -1, 0]\n",
    "    ]\n",
    "    filter_8 = [\n",
    "        [-1, -1, -1],\n",
    "        [-1, alpha+8, -1],\n",
    "        [-1, -1, -1]\n",
    "    ]\n",
    "    \n",
    "    dst = np.zeros(shape=(src.shape))\n",
    "    \n",
    "    for y in range(1, src.shape[0]-1):\n",
    "        for x in range(1, src.shape[1]-1):\n",
    "            for j in range(3):\n",
    "                for i in range(3):\n",
    "                    if filter_type == 0:\n",
    "                        dst[y][x] += src[y-1+j][x-1+i] * filter_4[j][i]\n",
    "                    else:\n",
    "                        dst[y][x] += src[y-1+j][x-1+i] * filter_8[j][i]\n",
    "    dst = np.array(np.clip(dst, 0, 255), dtype = np.uint8) #0에서 255의 값으로 맞춰줘야함\n",
    "    return dst"
   ]
  },
  {
   "cell_type": "code",
   "execution_count": null,
   "id": "1f95d65d",
   "metadata": {},
   "outputs": [],
   "source": [
    "src = cv2.imread('Homework #3 images/Color noisy image/Lena_noise.png')\n",
    "dst = gaussian_filtering(src, 5, 1)\n",
    "cv2.imshow(\"src\", src)\n",
    "cv2.imshow(\"dst\", dst)\n",
    "cv2.waitKey(0)\n",
    "cv2.destroyAllWindows()"
   ]
  }
 ],
 "metadata": {
  "kernelspec": {
   "display_name": "Python 3 (ipykernel)",
   "language": "python",
   "name": "python3"
  },
  "language_info": {
   "codemirror_mode": {
    "name": "ipython",
    "version": 3
   },
   "file_extension": ".py",
   "mimetype": "text/x-python",
   "name": "python",
   "nbconvert_exporter": "python",
   "pygments_lexer": "ipython3",
   "version": "3.9.12"
  }
 },
 "nbformat": 4,
 "nbformat_minor": 5
}
