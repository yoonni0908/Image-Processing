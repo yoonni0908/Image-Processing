{
 "cells": [
  {
   "cell_type": "code",
   "execution_count": 1,
   "id": "54cb9c30",
   "metadata": {},
   "outputs": [],
   "source": [
    "import cv2\n",
    "import numpy as np"
   ]
  },
  {
   "cell_type": "code",
   "execution_count": 4,
   "id": "aa3d4d07",
   "metadata": {},
   "outputs": [],
   "source": [
    "#얼굴색 추출\n",
    "src = cv2.imread(\"face1.jpg\",cv2.IMREAD_COLOR)\n",
    "hsv = cv2.cvtColor(src,cv2.COLOR_BGR2HSV)\n",
    "h,s,v = cv2.split(hsv)\n",
    "\n",
    "width, height, channel = src.shape[:]\n",
    "dst = np.zeros((width, height, channel))\n",
    "\n",
    "min_face = (0,50,100)\n",
    "max_face = (20,255,255)\n",
    "img_face = cv2.inRange(hsv,min_face,max_face)\n",
    "\n",
    "img_result = cv2.bitwise_and(src, src, mask = img_face)\n",
    "\n",
    "for i in range(width):\n",
    "    for j in range(height):\n",
    "        if h[i][j] > 0 and h[i][j]<20:\n",
    "            if s[i][j] > 50 and s[i][j] < 255:\n",
    "                if v[i][j] >100 and v[i][j] < 255:\n",
    "                    dst[i][j] = src[i][j]\n",
    "                    \n",
    "src = cv2.resize(src, (255, 255))\n",
    "img_result = cv2.resize(img_result, (255, 255))\n",
    "dst = cv2.resize(dst, (255, 255))\n",
    "cv2.imshow('source',src)\n",
    "cv2.imshow('result',img_result)\n",
    "cv2.imshow('Black',dst)\n",
    "\n",
    "cv2.waitKey(0)\n",
    "cv2.destroyAllWindows()"
   ]
  },
  {
   "cell_type": "code",
   "execution_count": null,
   "id": "1d335728",
   "metadata": {},
   "outputs": [],
   "source": [
    "#negative transformation(answer)\n",
    "src = cv2.imread('HE test/Fig0316(4)(bottom_left).jpg', cv2.IMREAD_GRAYSCALE)\n",
    "white = np.full((src.shape), 255, dtype = np.uint8) #원본이미지와 같은 사이즈의 white이미지 생성\n",
    "dst_neg = white-src # white 이미지에서 원본 이미지를 빼면 반전된 이미지\n",
    "\n",
    "#image display\n",
    "cv2.imshow(\"src\", src)\n",
    "cv2.imshow(\"dst_neg\", dst_neg)\n",
    "cv2.waitKey(0)\n",
    "cv2.destroyAllWindows()"
   ]
  },
  {
   "cell_type": "code",
   "execution_count": null,
   "id": "04e2b9d0",
   "metadata": {},
   "outputs": [],
   "source": [
    "#power-law transformation(answer)\n",
    "POWER_GAMMA = 0.5\n",
    "power_law_weight = src/255. #0에서 1사이의 값으로 정규화\n",
    "power_law_weight = np.power(power_law_weight, POWER_GAMMA) #라이브러리 적용\n",
    "dst_pow = np.array(np.round(power_law_weight * white), dtype = np.uint8)#다시 0에서 255의값으로 정규화\n",
    "\n",
    "#image display\n",
    "cv2.imshow(\"src\", dst)\n",
    "cv2.imshow(\"dst_pow\", dst_pow)\n",
    "cv2.waitKey(0)\n",
    "cv2.destroyAllWindows()"
   ]
  },
  {
   "cell_type": "code",
   "execution_count": null,
   "id": "a3babf8a",
   "metadata": {},
   "outputs": [],
   "source": [
    "#Histogram Equalization(answer)\n",
    "MAX_BIN = 256\n",
    "hist = np.zeros((MAX_BIN))\n",
    "hist_c = np.zeros((MAX_BIN))\n",
    "\n",
    "src = cv2.imread('HE test/Fig0316(4)(bottom_left).jpg', cv2.IMREAD_GRAYSCALE)\n",
    "\n",
    "for y in range(src.shape[0]):\n",
    "    for x in range(src.shape[1]):\n",
    "        hist[src[y][x]] += 1  #원본 이미지 히스토그램을 구한다\n",
    "\n",
    "hist_c[0] = hist[0]\n",
    "for i in range(1, MAX_BIN):\n",
    "             hist_c[i] = hist_c[i-1] + hist[i]\n",
    "\n",
    "hist_c /= (src.shape[0] * src.shape[1]) #누적 확률 분포 계산\n",
    "\n",
    "dst_hist = np.zeros((src.shape), dtype = np.uint8)\n",
    "for y in range(src.shape[0]):\n",
    "    for x in range(src.shape[1]):\n",
    "        dst_hist[y][x] = hist_c[src[y][x]] * 255 #누적 확률 분포에 255를 곱함\n",
    "\n",
    "#image display\n",
    "cv2.imshow(\"src\", src)\n",
    "cv2.imshow(\"dst_hist\", dst_hist)\n",
    "cv2.waitKey(0)\n",
    "cv2.destroyAllWindows()"
   ]
  },
  {
   "cell_type": "code",
   "execution_count": null,
   "id": "e5b44ebb",
   "metadata": {},
   "outputs": [],
   "source": []
  }
 ],
 "metadata": {
  "kernelspec": {
   "display_name": "Python 3 (ipykernel)",
   "language": "python",
   "name": "python3"
  },
  "language_info": {
   "codemirror_mode": {
    "name": "ipython",
    "version": 3
   },
   "file_extension": ".py",
   "mimetype": "text/x-python",
   "name": "python",
   "nbconvert_exporter": "python",
   "pygments_lexer": "ipython3",
   "version": "3.9.12"
  }
 },
 "nbformat": 4,
 "nbformat_minor": 5
}
